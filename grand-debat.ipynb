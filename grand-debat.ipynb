{
 "cells": [
  {
   "cell_type": "markdown",
   "metadata": {},
   "source": [
    "<center><h2>Détection de thème sur une question environnement du grand débat</h2></center>\n",
    "\n",
    "Fork du projet TALAGRAND (https://github.com/Quantmetry/grand-debat) qui met à disposition des techniques d'IA pour appréhender le nombre important de réponses au grand débat.  \n",
    "\n",
    "De même mon but est d'essayer des techniques d'extraction de thème (topic detection) sur des questions du grand débat. Pour cet essai j'ai pris : \"de quelle manière votre vie quotidienne est-elle touchée par le changement climatique ?\").  \n",
    "J'ai tenté de le comparer ensuite à la synthèse \"officielle\" réalisée par OpinionWay : \n",
    "https://granddebat.fr/media/default/0001/01/b88758e8caa2733bec607a74b3b5371cc0a3b420.pdf\n",
    "\n",
    "\n",
    "Tel quel le projet de départ TALAGRAND m'a donné des thèmes difficilement interprétables. Dans cette implémentation j'ai modifié la préparation de données grâce à la librairie  **spacy (lemmatisation, filtrage par POS)**, utilisé le même algo de **LDA de scikit-learn** que le projet initial, et déterminé le nombre de thèmes grâce au **score de cohérence** fourni par la librairie **gensim**."
   ]
  },
  {
   "cell_type": "code",
   "execution_count": 1,
   "metadata": {},
   "outputs": [],
   "source": [
    "import warnings; warnings.simplefilter('ignore')"
   ]
  },
  {
   "cell_type": "markdown",
   "metadata": {},
   "source": [
    "# Téléchargement des données\n",
    "-  Récupérer la liste des thèmes en analysant le site du Grand Débat\n",
    "-  Sélectionner un thème en modifiant la variable `selected_theme`\n",
    "-  Télécharger ensuite le fichier json le plus récent associé à un thème depuis datagouv.fr"
   ]
  },
  {
   "cell_type": "code",
   "execution_count": 2,
   "metadata": {},
   "outputs": [],
   "source": [
    "from grand_debat.downloading import download_data, get_themes\n",
    "\n",
    "#themes = get_themes() # not working\n",
    "\n",
    "themes = {\"1 L'organisation de l'État et des services publics\": \n",
    "              \"http://opendata.auth-6f31f706db6f4a24b55f42a6a79c5086.storage.sbg.cloud.ovh.net/\"+\n",
    "              \"2019-03-21/ORGANISATION_DE_LETAT_ET_DES_SERVICES_PUBLICS.json\",\n",
    "          \"2 la-transition-ecologique\": \n",
    "              \"http://opendata.auth-6f31f706db6f4a24b55f42a6a79c5086.storage.sbg.cloud.ovh.net/2019-03-21/\"+\n",
    "              \"LA_TRANSITION_ECOLOGIQUE.json\",\n",
    "          # 2 autres thèmes (fiscalité, démocratie) à voir ici:\n",
    "          # https://granddebat.fr/pages/donnees-ouvertes\n",
    "         }"
   ]
  },
  {
   "cell_type": "code",
   "execution_count": 3,
   "metadata": {},
   "outputs": [],
   "source": [
    "# Choisir le numéro associé au thème que l'on souhaite étudier\n",
    "selected_theme = 2"
   ]
  },
  {
   "cell_type": "code",
   "execution_count": 4,
   "metadata": {},
   "outputs": [],
   "source": [
    "#download_data(themes, selected_theme)"
   ]
  },
  {
   "cell_type": "markdown",
   "metadata": {},
   "source": [
    "# Chargement des données\n",
    "-  Charger le fichier json précédemment téléchargé\n",
    "-  Afficher les différentes questions associées au thème sélectionné\n",
    "-  Sélectionner une question à étudier (variable `selected_question`)\n",
    "-  Afficher le nombre de réponses existantes correspondant à cette question"
   ]
  },
  {
   "cell_type": "code",
   "execution_count": 5,
   "metadata": {},
   "outputs": [],
   "source": [
    "from grand_debat.loading import load_answers, get_path, display_questions_from_json"
   ]
  },
  {
   "cell_type": "code",
   "execution_count": 6,
   "metadata": {},
   "outputs": [],
   "source": [
    "path = get_path(themes, selected_theme)"
   ]
  },
  {
   "cell_type": "code",
   "execution_count": 7,
   "metadata": {},
   "outputs": [
    {
     "name": "stdout",
     "output_type": "stream",
     "text": [
      "Qestion id : UXVlc3Rpb246MTYw\n",
      "Quel est aujourd'hui pour vous le problème concret le plus important dans le domaine de l'environnement ?\n",
      "\n",
      "Qestion id : UXVlc3Rpb246MTYx\n",
      "Que faudrait-il faire selon vous pour apporter des réponses à ce problème ?\n",
      "\n",
      "Qestion id : UXVlc3Rpb246MTQ2\n",
      "Diriez-vous que votre vie quotidienne est aujourd'hui touchée par le changement climatique ?\n",
      "\n",
      "Qestion id : UXVlc3Rpb246MTQ3\n",
      "Si oui, de quelle manière votre vie quotidienne est-elle touchée par le changement climatique ?\n",
      "\n",
      "Qestion id : UXVlc3Rpb246MTQ4\n",
      "À titre personnel, pensez-vous pouvoir contribuer à protéger l'environnement ?\n",
      "\n",
      "Qestion id : UXVlc3Rpb246MTQ5\n",
      "Si oui, que faites-vous aujourd'hui pour protéger l'environnement et/ou que pourriez-vous faire ?\n",
      "\n",
      "Qestion id : UXVlc3Rpb246MTUw\n",
      "Qu'est-ce qui pourrait vous inciter à changer vos comportements comme par exemple mieux entretenir et régler votre chauffage, modifier votre manière de conduire ou renoncer à prendre votre véhicule pour de très petites distances ?\n",
      "\n",
      "Qestion id : UXVlc3Rpb246MTUx\n",
      "Quelles seraient pour vous les solutions les plus simples et les plus supportables sur un plan financier pour vous inciter à changer vos comportements ?\n",
      "\n",
      "Qestion id : UXVlc3Rpb246MTUy\n",
      "Par rapport à votre mode de chauffage actuel, pensez-vous qu'il existe des solutions alternatives plus écologiques ?\n",
      "\n",
      "Qestion id : UXVlc3Rpb246MTUz\n",
      "Si oui, que faudrait-il faire pour vous convaincre ou vous aider à changer de mode de chauffage ?\n",
      "\n",
      "Qestion id : UXVlc3Rpb246MTU0\n",
      "Avez-vous pour vos déplacements quotidiens la possibilité de recourir à des solutions de mobilité alternatives à la voiture individuelle comme les transports en commun, le covoiturage, l'auto-partage, le transport à la demande, le vélo, etc. ?\n",
      "\n",
      "Qestion id : UXVlc3Rpb246MTU1\n",
      "Si oui, que faudrait-il faire pour vous convaincre ou vous aider à utiliser ces solutions alternatives ?\n",
      "\n",
      "Qestion id : UXVlc3Rpb246MjA3\n",
      "Si non, quelles sont les solutions de mobilité alternatives que vous souhaiteriez pouvoir utiliser ?\n",
      "\n",
      "Qestion id : UXVlc3Rpb246MTU3\n",
      "Et qui doit selon vous se charger de vous proposer ce type de solutions alternatives ?\n",
      "\n",
      "Qestion id : UXVlc3Rpb246MTU4\n",
      "Que pourrait faire la France pour faire partager ses choix en matière d'environnement au niveau européen et international ?\n",
      "\n",
      "Qestion id : UXVlc3Rpb246MTU5\n",
      "Y a-t-il d'autres points sur la transition écologique sur lesquels vous souhaiteriez vous exprimer ?\n",
      "\n"
     ]
    }
   ],
   "source": [
    "display_questions_from_json(path)"
   ]
  },
  {
   "cell_type": "code",
   "execution_count": 8,
   "metadata": {},
   "outputs": [],
   "source": [
    "# Indiquer ici l'identifiant associé à la question étudiée\n",
    "selected_question = 'UXVlc3Rpb246MTQ3' # Si oui, de quelle manière votre vie quotidienne est-elle touchée ..."
   ]
  },
  {
   "cell_type": "code",
   "execution_count": 9,
   "metadata": {},
   "outputs": [
    {
     "name": "stderr",
     "output_type": "stream",
     "text": [
      "153809it [00:07, 21142.53it/s]\n"
     ]
    }
   ],
   "source": [
    "answers = load_answers(path, selected_question)"
   ]
  },
  {
   "cell_type": "code",
   "execution_count": 10,
   "metadata": {},
   "outputs": [
    {
     "name": "stdout",
     "output_type": "stream",
     "text": [
      "Nombre de réponses analysées : 92795\n"
     ]
    }
   ],
   "source": [
    "print(\"Nombre de réponses analysées :\", len(answers))"
   ]
  },
  {
   "cell_type": "markdown",
   "metadata": {},
   "source": [
    "<h2>Détection de thèmes</h2>\n",
    "\n",
    "-  Détecter les thèmes principaux associés à la question sélectionnée en utilisant l'algorithme **LDA** (Latent Dirichlet Allocation)\n",
    "-  Le resultat de l'analyse se trouve dans le fichier pyLDAVIS_tf.html"
   ]
  },
  {
   "cell_type": "code",
   "execution_count": 11,
   "metadata": {},
   "outputs": [
    {
     "name": "stderr",
     "output_type": "stream",
     "text": [
      "/Users/charlesprat/miniconda3/lib/python3.8/site-packages/scipy/sparse/sparsetools.py:21: DeprecationWarning: `scipy.sparse.sparsetools` is deprecated!\n",
      "scipy.sparse.sparsetools is a private module for scipy.sparse, and should not be used.\n",
      "  _deprecated()\n"
     ]
    },
    {
     "data": {
      "text/plain": [
       "<module 'grand_debat.theme_detection' from '/Users/charlesprat/RepoGit/grand-debat/grand_debat/theme_detection.py'>"
      ]
     },
     "execution_count": 11,
     "metadata": {},
     "output_type": "execute_result"
    }
   ],
   "source": [
    "from tqdm import tqdm\n",
    "import importlib\n",
    "import grand_debat.theme_detection as td\n",
    "importlib.reload(td)"
   ]
  },
  {
   "cell_type": "markdown",
   "metadata": {},
   "source": [
    "### Preparation des données\n",
    "\n",
    "Tokenisation, lemmatisation, filtrage sur type (POS NOUN et ADJ) et stop words de spacy"
   ]
  },
  {
   "cell_type": "code",
   "execution_count": 12,
   "metadata": {},
   "outputs": [
    {
     "data": {
      "text/plain": [
       "<module 'grand_debat.theme_detection' from '/Users/charlesprat/RepoGit/grand-debat/grand_debat/theme_detection.py'>"
      ]
     },
     "execution_count": 12,
     "metadata": {},
     "output_type": "execute_result"
    }
   ],
   "source": [
    "importlib.reload(td)"
   ]
  },
  {
   "cell_type": "code",
   "execution_count": 13,
   "metadata": {},
   "outputs": [
    {
     "name": "stdout",
     "output_type": "stream",
     "text": [
      "load spacy pipeline\n"
     ]
    },
    {
     "name": "stderr",
     "output_type": "stream",
     "text": [
      "\r",
      "  0%|          | 0/92795 [00:00<?, ?it/s]"
     ]
    },
    {
     "name": "stdout",
     "output_type": "stream",
     "text": [
      "tokenizing datas\n"
     ]
    },
    {
     "name": "stderr",
     "output_type": "stream",
     "text": [
      "100%|██████████| 92795/92795 [02:10<00:00, 713.50it/s]\n"
     ]
    },
    {
     "name": "stdout",
     "output_type": "stream",
     "text": [
      "fitting countvectorizer\n",
      "data preparation done\n"
     ]
    }
   ],
   "source": [
    "gd_prep = td.GDebatDataPreparation(answers)"
   ]
  },
  {
   "cell_type": "code",
   "execution_count": 14,
   "metadata": {},
   "outputs": [
    {
     "data": {
      "text/plain": [
       "4978"
      ]
     },
     "execution_count": 14,
     "metadata": {},
     "output_type": "execute_result"
    }
   ],
   "source": [
    "len(gd_prep.tf_bow.vocabulary_)"
   ]
  },
  {
   "cell_type": "markdown",
   "metadata": {},
   "source": [
    "### Recherche du nombre optimal de thèmes pour l'entrée de la LDA\n",
    "\n",
    "On se base sur le \"coherence score\".  \n",
    "https://svn.aksw.org/papers/2015/WSDM_Topic_Evaluation/public.pdf"
   ]
  },
  {
   "cell_type": "code",
   "execution_count": 15,
   "metadata": {},
   "outputs": [
    {
     "data": {
      "text/plain": [
       "<module 'grand_debat.theme_detection' from '/Users/charlesprat/RepoGit/grand-debat/grand_debat/theme_detection.py'>"
      ]
     },
     "execution_count": 15,
     "metadata": {},
     "output_type": "execute_result"
    }
   ],
   "source": [
    "importlib.reload(td)"
   ]
  },
  {
   "cell_type": "code",
   "execution_count": 16,
   "metadata": {},
   "outputs": [],
   "source": [
    "from numpy.random import default_rng\n",
    "rng = default_rng(seed=11)\n",
    "\n",
    "num_topics = [3,4,5,6,7,10,12]\n",
    "answs_samples = rng.choice(gd_prep.answ_lems, size=20000, replace=False).tolist()"
   ]
  },
  {
   "cell_type": "code",
   "execution_count": 17,
   "metadata": {},
   "outputs": [
    {
     "name": "stdout",
     "output_type": "stream",
     "text": [
      "compute lda for 3 topics\n",
      "Lda done, coherence 0.416\n",
      "compute lda for 4 topics\n",
      "Lda done, coherence 0.568\n",
      "compute lda for 5 topics\n",
      "Lda done, coherence 0.651\n",
      "compute lda for 6 topics\n",
      "Lda done, coherence 0.640\n",
      "compute lda for 7 topics\n",
      "Lda done, coherence 0.475\n",
      "compute lda for 10 topics\n",
      "Lda done, coherence 0.488\n",
      "compute lda for 12 topics\n",
      "Lda done, coherence 0.535\n",
      "Best coherence achieved for n_topics = 5\n"
     ]
    }
   ],
   "source": [
    "v_coh, l_topics, best_n = td.compute_coherence_vs_ntopics(\n",
    "    answs_samples, gd_prep, num_topics=num_topics, lambda_coh=0.3)"
   ]
  },
  {
   "cell_type": "code",
   "execution_count": 18,
   "metadata": {},
   "outputs": [
    {
     "name": "stdout",
     "output_type": "stream",
     "text": [
      "['chaleur', 'hiver', 'été', 'chaud', 'neige', 'froid', 'doux', 'sec', 'février']\n",
      "['inondation', 'tempête', 'fréquent', 'violent', 'phénomène', 'épisode', 'vent', 'extrême', 'crue']\n",
      "['vie', 'quotidien', 'monde', 'avenir', 'planète', 'pays', 'consommation', 'transport', 'énergie']\n",
      "['pollution', 'air', 'ville', 'allergie', 'qualité', 'respiratoire', 'asthme', 'atmosphérique', 'cancer']\n",
      "['disparition', 'oiseau', 'insecte', 'espèce', 'biodiversité', 'animal', 'jardin', 'abeille', 'diminution']\n"
     ]
    }
   ],
   "source": [
    "for topic in l_topics[2]:\n",
    "    print(topic)"
   ]
  },
  {
   "cell_type": "code",
   "execution_count": 19,
   "metadata": {},
   "outputs": [
    {
     "data": {
      "image/png": "[encoded data removed]",
      "text/plain": [
       "<Figure size 432x288 with 1 Axes>"
      ]
     },
     "metadata": {
      "needs_background": "light"
     },
     "output_type": "display_data"
    }
   ],
   "source": [
    "import pandas as pd\n",
    "import matplotlib.pyplot as plt\n",
    "f,ax = plt.subplots()\n",
    "\n",
    "pd.Series(v_coh, index=[len(topic) for topic in l_topics]).plot(ax=ax)\n",
    "ax.grid()\n",
    "#ax.set_ylim(0.2,0.7)"
   ]
  },
  {
   "cell_type": "markdown",
   "metadata": {},
   "source": [
    "### LDA sur l'ensemble des donnée"
   ]
  },
  {
   "cell_type": "code",
   "execution_count": 20,
   "metadata": {},
   "outputs": [
    {
     "data": {
      "text/plain": [
       "<module 'grand_debat.theme_detection' from '/Users/charlesprat/RepoGit/grand-debat/grand_debat/theme_detection.py'>"
      ]
     },
     "execution_count": 20,
     "metadata": {},
     "output_type": "execute_result"
    }
   ],
   "source": [
    "importlib.reload(td)"
   ]
  },
  {
   "cell_type": "code",
   "execution_count": 21,
   "metadata": {},
   "outputs": [],
   "source": [
    "# Plusieurs essais random me montrent que sur la question sélectionnée UXVlc3Rpb246MTQ3\n",
    "# le premier maximum de la coherence se trouve très souvent entre 5 et 6. \n",
    "\n",
    "n_topics = 5"
   ]
  },
  {
   "cell_type": "code",
   "execution_count": 22,
   "metadata": {},
   "outputs": [],
   "source": [
    "topic_detector = td.GDebatTopicDetection(gd_prep, n_topics, verbose=1)"
   ]
  },
  {
   "cell_type": "code",
   "execution_count": 23,
   "metadata": {},
   "outputs": [
    {
     "name": "stdout",
     "output_type": "stream",
     "text": [
      "iteration: 1 of max_iter: 100\n",
      "iteration: 2 of max_iter: 100\n",
      "iteration: 3 of max_iter: 100\n",
      "iteration: 4 of max_iter: 100, perplexity: 710.8416\n",
      "iteration: 5 of max_iter: 100\n",
      "iteration: 6 of max_iter: 100\n",
      "iteration: 7 of max_iter: 100\n",
      "iteration: 8 of max_iter: 100, perplexity: 638.2131\n",
      "iteration: 9 of max_iter: 100\n",
      "iteration: 10 of max_iter: 100\n",
      "iteration: 11 of max_iter: 100\n",
      "iteration: 12 of max_iter: 100, perplexity: 623.1029\n",
      "iteration: 13 of max_iter: 100\n",
      "iteration: 14 of max_iter: 100\n",
      "iteration: 15 of max_iter: 100\n",
      "iteration: 16 of max_iter: 100, perplexity: 617.8888\n",
      "iteration: 17 of max_iter: 100\n",
      "iteration: 18 of max_iter: 100\n",
      "iteration: 19 of max_iter: 100\n",
      "iteration: 20 of max_iter: 100, perplexity: 616.2495\n",
      "iteration: 21 of max_iter: 100\n",
      "iteration: 22 of max_iter: 100\n",
      "iteration: 23 of max_iter: 100\n",
      "iteration: 24 of max_iter: 100, perplexity: 615.4767\n",
      "iteration: 25 of max_iter: 100\n",
      "iteration: 26 of max_iter: 100\n",
      "iteration: 27 of max_iter: 100\n",
      "iteration: 28 of max_iter: 100, perplexity: 614.9952\n",
      "LDA visualization in pyLDAVIS_tf.html\n"
     ]
    }
   ],
   "source": [
    "topic_detector.compute_topic_detection(data_bow=gd_prep.answ_bow, LDAVis=True)"
   ]
  },
  {
   "cell_type": "code",
   "execution_count": 24,
   "metadata": {},
   "outputs": [
    {
     "name": "stdout",
     "output_type": "stream",
     "text": [
      "['chaleur', 'hiver', 'été', 'chaud', 'saison', 'période', 'neige', 'canicule', 'année']\n",
      "['climatique', 'température', 'inondation', 'sécheresse', 'tempête', 'dérèglement', 'canicule', 'violent', 'saison']\n",
      "['climatique', 'vie', 'changement', 'quotidien', 'enfant', 'impact', 'monde', 'avenir', 'consommation']\n",
      "['pollution', 'air', 'ville', 'santé', 'allergie', 'problème', 'qualité', 'respiratoire', 'pic']\n",
      "['disparition', 'eau', 'insecte', 'oiseau', 'espèce', 'animal', 'biodiversité', 'jardin', 'abeille']\n"
     ]
    }
   ],
   "source": [
    "for topic in topic_detector.get_topics_by_relevance(lambd=1):\n",
    "    print(topic)"
   ]
  },
  {
   "cell_type": "markdown",
   "metadata": {},
   "source": [
    "### Interprétation et résumé"
   ]
  },
  {
   "cell_type": "code",
   "execution_count": 25,
   "metadata": {},
   "outputs": [
    {
     "data": {
      "text/plain": [
       "<module 'grand_debat.text_summarization' from '/Users/charlesprat/RepoGit/grand-debat/grand_debat/text_summarization.py'>"
      ]
     },
     "execution_count": 25,
     "metadata": {},
     "output_type": "execute_result"
    }
   ],
   "source": [
    "import grand_debat.text_summarization as ts\n",
    "importlib.reload(ts)"
   ]
  },
  {
   "cell_type": "code",
   "execution_count": 26,
   "metadata": {},
   "outputs": [
    {
     "name": "stderr",
     "output_type": "stream",
     "text": [
      "\r",
      "  0%|          | 0/92795 [00:00<?, ?it/s]"
     ]
    },
    {
     "name": "stdout",
     "output_type": "stream",
     "text": [
      "Sentence segmentation\n"
     ]
    },
    {
     "name": "stderr",
     "output_type": "stream",
     "text": [
      "100%|██████████| 92795/92795 [02:06<00:00, 732.20it/s]\n",
      "  0%|          | 0/31176 [00:00<?, ?it/s]"
     ]
    },
    {
     "name": "stdout",
     "output_type": "stream",
     "text": [
      "Data preparation\n"
     ]
    },
    {
     "name": "stderr",
     "output_type": "stream",
     "text": [
      "100%|██████████| 31176/31176 [00:37<00:00, 831.38it/s]\n"
     ]
    },
    {
     "name": "stdout",
     "output_type": "stream",
     "text": [
      "LDA transformation\n"
     ]
    }
   ],
   "source": [
    "titles = ts.create_titles(answers, topic_detector)"
   ]
  },
  {
   "cell_type": "code",
   "execution_count": 27,
   "metadata": {},
   "outputs": [
    {
     "data": {
      "text/plain": [
       "['Plus de réelle saison : trop de fortes chaleurs en été et pas assez de périodes très froides en hiver',\n",
       " 'Les saisons se suivent et ne se ressemblent pas, avec de plus en plus de dérèglements : canicule, sécheresse, tempêtes, inondations, températures anormales pour la saison',\n",
       " \" Ma vie quotidienne est négativement touchée par le changement climatique et  par l'atmosphère de fin du monde que cette préoccupation planétaire instille dans nos cerveaux.\",\n",
       " \"Pollution beaucoup plus systématique qu'avant dans les villes, très mauvaise qualité de l'air, allergies, difficultés respiratoires à l'extérieur parfois.\",\n",
       " ' La disparition d’espèces ( plantes , insectes, poissons , animaux terrestres , oiseaux , abeilles , etc ).']"
      ]
     },
     "execution_count": 27,
     "metadata": {},
     "output_type": "execute_result"
    }
   ],
   "source": [
    "titles"
   ]
  },
  {
   "cell_type": "markdown",
   "metadata": {},
   "source": [
    "J'interprête \"à la main\" chacun des thèmes comme cela :"
   ]
  },
  {
   "cell_type": "code",
   "execution_count": 28,
   "metadata": {},
   "outputs": [],
   "source": [
    "topic_names = [\"Biodiversité\", \"Pollution de l'air / santé\", \"Événements extrêmes\", \n",
    "               \"Réchauffement / saisons déréglées\", \n",
    "               \"Inquiétude avenir / impact sur nos dépenses\" ]"
   ]
  },
  {
   "cell_type": "code",
   "execution_count": 29,
   "metadata": {},
   "outputs": [
    {
     "ename": "NameError",
     "evalue": "name 'tf_lda' is not defined",
     "output_type": "error",
     "traceback": [
      "\u001b[0;31m---------------------------------------------------------------------------\u001b[0m",
      "\u001b[0;31mNameError\u001b[0m                                 Traceback (most recent call last)",
      "\u001b[0;32m<ipython-input-29-fbb27b794a24>\u001b[0m in \u001b[0;36m<module>\u001b[0;34m\u001b[0m\n\u001b[1;32m      1\u001b[0m \u001b[0;32mimport\u001b[0m \u001b[0mmatplotlib\u001b[0m\u001b[0;34m.\u001b[0m\u001b[0mpyplot\u001b[0m \u001b[0;32mas\u001b[0m \u001b[0mplt\u001b[0m\u001b[0;34m\u001b[0m\u001b[0;34m\u001b[0m\u001b[0m\n\u001b[1;32m      2\u001b[0m topics_pct = pd.Series(index=topic_names, \n\u001b[0;32m----> 3\u001b[0;31m                        data=(tf_lda.transform(tf_bow.transform(answ_lems)) >0.2).mean(axis=0)*100)\n\u001b[0m\u001b[1;32m      4\u001b[0m \u001b[0;34m\u001b[0m\u001b[0m\n\u001b[1;32m      5\u001b[0m \u001b[0mf\u001b[0m\u001b[0;34m,\u001b[0m\u001b[0max\u001b[0m \u001b[0;34m=\u001b[0m \u001b[0mplt\u001b[0m\u001b[0;34m.\u001b[0m\u001b[0msubplots\u001b[0m\u001b[0;34m(\u001b[0m\u001b[0;34m)\u001b[0m\u001b[0;34m\u001b[0m\u001b[0;34m\u001b[0m\u001b[0m\n",
      "\u001b[0;31mNameError\u001b[0m: name 'tf_lda' is not defined"
     ]
    }
   ],
   "source": [
    "import matplotlib.pyplot as plt\n",
    "topics_pct = pd.Series(index=topic_names, \n",
    "                       data=(tf_lda.transform(tf_bow.transform(answ_lems)) >0.2).mean(axis=0)*100)\n",
    "\n",
    "f,ax = plt.subplots()\n",
    "topics_pct.sort_values().plot(kind=\"barh\")\n",
    "ax.grid()\n",
    "ax.set_xlabel(\"%\")\n",
    "ax.set_title(\"Pourcentage des réponses\\nmentionnant les thèmes suivants\")"
   ]
  },
  {
   "cell_type": "code",
   "execution_count": null,
   "metadata": {},
   "outputs": [],
   "source": [
    "# topics OpinionWay \n",
    "# https://granddebat.fr/media/default/0001/01/b88758e8caa2733bec607a74b3b5371cc0a3b420.pdf \n",
    "topics_ow = pd.Series(\n",
    "    {\"Les épisodes de chaleur, les sécheresses\": 24.6,\n",
    "    \"Des événements climatiques plus fréquents\": 16.5,\n",
    "    \"L'impact lié à la qualité de l'air\": 12.4,\n",
    "    \"Autres impacts liés à la pollution\": 12.2,\n",
    "    \"L'impact lié à l'eau : pollution, inondations, consommation\": 9.3,\n",
    "    \"Les conséquences sur la santé\": 11.9,\n",
    "     \"L'impact lié à la faune, la flore, la biodiversité\": 8.4,\n",
    "     \"Autres éléments\": 3.2,\n",
    "     \"Autres mentions concernant l'environnement\": 2.4,\n",
    "     \"L'impact lié au littoral et à la mer\": 1.4,\n",
    "     \"L'impact lié aux dépenses, prix, taxes\": 1.3,\n",
    "     \"Trop de déchets, le problème de la gestion des déchets\": 1.3,\n",
    "     \"L'impact lié à l'agriculture\": 1.2,\n",
    "     \"L'impact lié aux transports\": 1.1,\n",
    "     \"L'immigration de réfugiés climatiques\": 0.6\n",
    "    }\n",
    ")\n",
    "\n",
    "f,ax = plt.subplots()\n",
    "topics_ow.sort_values().plot(kind=\"barh\",ax=ax)\n",
    "ax.grid()\n",
    "\n"
   ]
  },
  {
   "cell_type": "code",
   "execution_count": null,
   "metadata": {},
   "outputs": [],
   "source": []
  },
  {
   "cell_type": "markdown",
   "metadata": {},
   "source": [
    "<h2>Résumé de chaque thème</h2>\n",
    "-  Résumer un grand thème en utilisant TextRank, technique de résumé extractive\n",
    "-  Spécifier le nombre de phrases que l'on souhaite pour former le résumé dans la variable `sn`\n",
    "-  Les résultats se situent dans le fichier demo.docx"
   ]
  },
  {
   "cell_type": "code",
   "execution_count": null,
   "metadata": {},
   "outputs": [],
   "source": [
    "from grand_debat.text_summarization import prepare_data, apply_page_rank_algorithm, create_titles\n",
    "from grand_debat.vectorization import sentence_to_vec\n",
    "from grand_debat.clusterisation import apply_clusterisation"
   ]
  },
  {
   "cell_type": "code",
   "execution_count": null,
   "metadata": {},
   "outputs": [],
   "source": [
    "#import nltk\n",
    "#nltk.download('punkt')"
   ]
  },
  {
   "cell_type": "markdown",
   "metadata": {},
   "source": [
    "Transformer le document texte en un ensemble de phrases dont la typographie est standardisée"
   ]
  },
  {
   "cell_type": "code",
   "execution_count": null,
   "metadata": {},
   "outputs": [],
   "source": [
    "clean_sentences = prepare_data(data_theme_response_dict, selected_question)"
   ]
  },
  {
   "cell_type": "markdown",
   "metadata": {},
   "source": [
    "Récupérer la phrase la plus caractéristique de chaque thème"
   ]
  },
  {
   "cell_type": "code",
   "execution_count": null,
   "metadata": {
    "scrolled": true
   },
   "outputs": [],
   "source": [
    "sentences_mixture_topics, title_sentences, titles = create_titles(clean_sentences, tf_bow, tf_lda)"
   ]
  },
  {
   "cell_type": "markdown",
   "metadata": {},
   "source": [
    "Associer à chaque phrase du corpus son thème (issu de **LDA**) le plus carctéristique"
   ]
  },
  {
   "cell_type": "code",
   "execution_count": null,
   "metadata": {},
   "outputs": [],
   "source": [
    "sentences_paragraph = apply_clusterisation(sentences_mixture_topics)"
   ]
  },
  {
   "cell_type": "markdown",
   "metadata": {},
   "source": [
    "Représenter chaque phrase sous la forme d'un vecteur dense. Ces vecteurs sont obtenus à partir d'embeddings entraînés à partir de l'ensemble des contributions au Grand Débat"
   ]
  },
  {
   "cell_type": "code",
   "execution_count": null,
   "metadata": {},
   "outputs": [],
   "source": [
    "sentence_vectors, word_embeddings = sentence_to_vec(clean_sentences, file_model='data/word2vec.10k.100d.txt')"
   ]
  },
  {
   "cell_type": "markdown",
   "metadata": {},
   "source": [
    "On applique alors l'algorithme **TextRank** à l'ensemble des phrases d'un thème pour en extraire les phrases carctéristiques"
   ]
  },
  {
   "cell_type": "code",
   "execution_count": null,
   "metadata": {},
   "outputs": [],
   "source": [
    "# Indiquer le nombre de phrases qui formeront le résumé\n",
    "sn = 10\n",
    "apply_page_rank_algorithm(clean_sentences, sentences_paragraph, word_embeddings, sn)"
   ]
  },
  {
   "cell_type": "code",
   "execution_count": null,
   "metadata": {},
   "outputs": [],
   "source": []
  },
  {
   "cell_type": "code",
   "execution_count": null,
   "metadata": {},
   "outputs": [],
   "source": []
  }
 ],
 "metadata": {
  "kernelspec": {
   "display_name": "Python 3",
   "language": "python",
   "name": "python3"
  },
  "language_info": {
   "codemirror_mode": {
    "name": "ipython",
    "version": 3
   },
   "file_extension": ".py",
   "mimetype": "text/x-python",
   "name": "python",
   "nbconvert_exporter": "python",
   "pygments_lexer": "ipython3",
   "version": "3.8.3"
  }
 },
 "nbformat": 4,
 "nbformat_minor": 2
}
